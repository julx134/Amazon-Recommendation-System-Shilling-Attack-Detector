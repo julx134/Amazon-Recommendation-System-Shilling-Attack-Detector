{
  "cells": [
    {
      "cell_type": "markdown",
      "metadata": {
        "id": "view-in-github",
        "colab_type": "text"
      },
      "source": [
        "<a href=\"https://colab.research.google.com/github/julx134/Amazon-Recommendation-System-Shilling-Attack-Detector/blob/main/Shilling_Detector_LSTM.ipynb\" target=\"_parent\"><img src=\"https://colab.research.google.com/assets/colab-badge.svg\" alt=\"Open In Colab\"/></a>"
      ]
    },
    {
      "cell_type": "code",
      "execution_count": null,
      "metadata": {
        "id": "BafS8nv3H6Re"
      },
      "outputs": [],
      "source": [
        "import numpy as np\n",
        "import pandas as pd\n",
        "from tensorflow.keras.models import Model, Sequential\n",
        "from tensorflow.keras.layers import Dense, LSTM, Dropout, BatchNormalization\n",
        "from sklearn.model_selection import train_test_split\n",
        "from tensorflow import keras\n",
        "import tensorflow as tf\n",
        "import os\n",
        "import csv\n",
        "from sklearn import preprocessing\n",
        "from sklearn.preprocessing import MinMaxScaler\n",
        "from keras import optimizers\n",
        "import sys\n",
        "from sklearn.metrics import f1_score, roc_curve, auc"
      ]
    },
    {
      "cell_type": "markdown",
      "metadata": {
        "id": "Uhis76EHGDu6"
      },
      "source": [
        "# Pre-process dataset"
      ]
    },
    {
      "cell_type": "code",
      "execution_count": null,
      "metadata": {
        "id": "FQvvvq_DDBN9"
      },
      "outputs": [],
      "source": [
        "def test_run_model(name, type, testMode, postfix=''):\n",
        "  test = testMode\n",
        "  postfix = postfix\n",
        "\n",
        "  if name == 'ml':\n",
        "    # for ML dataset\n",
        "    batch_size = 20\n",
        "    epochs = 20\n",
        "    input_dim = 1682\n",
        "    dataset_name = f'{name}_100k_{type}'\n",
        "\n",
        "  if name == 'amazon':\n",
        "    batch_size = 100\n",
        "    epochs = 7\n",
        "    dataset_name = f'{name}_50k_{type}'\n",
        "\n",
        "    if type == 'average' or type == 'random':\n",
        "      input_dim = 415\n",
        "    else:\n",
        "      input_dim = 416\n",
        "\n",
        "  return input_dim, dataset_name, test, batch_size, epochs, postfix\n",
        "\n",
        "input_dim, dataset_name, test, batch_size, epochs, postfix = test_run_model('ml','random',True,'v3')"
      ]
    },
    {
      "cell_type": "code",
      "execution_count": null,
      "metadata": {
        "id": "IFlyaXOxgDLx"
      },
      "outputs": [],
      "source": [
        "# path to custom dataset\n",
        "load = f\"/content/dataset/{dataset_name}.csv\"\n",
        "file_path = os.path.expanduser(load)\n",
        "\n",
        "#convert csv to dictionary\n",
        "rating_dict = {'user_id':[], 'item_id':[], 'rating':[]}\n",
        "with open(file_path, 'r') as dataset:\n",
        "    for line in csv.reader(dataset):\n",
        "        rating_dict['user_id'].append(line[0])\n",
        "        rating_dict['item_id'].append(line[2])\n",
        "        rating_dict['rating'].append(line[4])\n",
        "\n",
        "#convert dictionary to dataframe\n",
        "rating_df = pd.DataFrame.from_dict(rating_dict)\n",
        "\n",
        "#encode labels\n",
        "user_encoder = preprocessing.LabelEncoder()\n",
        "user_encoder.fit(rating_df['user_id'])\n",
        "item_encoder = preprocessing.LabelEncoder()\n",
        "rating_df['user_id'] = user_encoder.transform(rating_df['user_id'])\n",
        "rating_df['item_id'] = item_encoder.fit_transform(rating_df['item_id'])\n",
        "\n",
        "#normalize 'rating' column\n",
        "scaler = MinMaxScaler()\n",
        "rating_df['rating'] = scaler.fit_transform(rating_df[['rating']])\n",
        "\n"
      ]
    },
    {
      "cell_type": "code",
      "execution_count": null,
      "metadata": {
        "colab": {
          "base_uri": "https://localhost:8080/"
        },
        "id": "ipEQuPXLswuW",
        "outputId": "19c17826-f1cc-497f-c353-ade1340e0b7d"
      },
      "outputs": [
        {
          "output_type": "stream",
          "name": "stdout",
          "text": [
            "item_id  0     1     2     3     4     5     6     7     8     9     ...  \\\n",
            "user_id                                                              ...   \n",
            "0        1.00  0.50   1.0   0.0   0.0   0.0   0.0   0.0   0.0   0.0  ...   \n",
            "1        0.75  0.00   1.0   0.0   0.0   0.0   0.0   0.0   0.0   0.0  ...   \n",
            "2        0.00  0.00   0.0   0.0   0.0   0.0   0.0   0.0   0.0   0.0  ...   \n",
            "3        0.00  0.00   0.0   0.0   0.0   0.0   0.0   0.0   0.0   0.0  ...   \n",
            "4        0.00  0.00   0.0   0.0   0.0   0.0   0.0   0.0   0.0   0.0  ...   \n",
            "...       ...   ...   ...   ...   ...   ...   ...   ...   ...   ...  ...   \n",
            "1031     0.00  0.00   0.0   0.0   0.0   0.0   0.0   0.0   0.0   0.0  ...   \n",
            "1032     0.00  0.00   0.0   0.0   0.0   0.0   0.0   0.0   0.0   0.0  ...   \n",
            "1033     0.00  0.00   0.0   0.0   0.0   0.0   0.0   0.0   0.0   0.0  ...   \n",
            "1034     0.00  0.25   0.0   0.0   0.0   0.0   0.0   0.0   0.0   0.0  ...   \n",
            "1035     0.00  0.00   0.0   0.0   0.0   0.0   0.0   0.0   0.0   0.0  ...   \n",
            "\n",
            "item_id  1672  1673  1674  1675  1676  1677  1678  1679  1680  1681  \n",
            "user_id                                                              \n",
            "0        0.00  0.00   0.0   0.0   0.0   0.0   0.0   0.0   0.0   0.0  \n",
            "1        0.00  0.00   0.0   0.0   0.0   0.0   0.0   0.0   0.0   0.0  \n",
            "2        0.50  0.00   0.0   0.0   0.0   0.0   0.0   0.0   0.0   0.0  \n",
            "3        0.00  0.00   0.0   0.0   0.0   0.0   0.0   0.0   0.0   0.0  \n",
            "4        0.00  0.00   0.0   1.0   0.0   0.0   0.0   0.0   0.0   0.0  \n",
            "...       ...   ...   ...   ...   ...   ...   ...   ...   ...   ...  \n",
            "1031     0.25  0.00   0.0   0.0   0.0   1.0   0.0   0.0   0.0   0.0  \n",
            "1032     0.00  0.75   0.0   0.0   0.0   0.0   0.0   0.0   0.0   0.0  \n",
            "1033     0.00  0.00   0.0   0.0   0.0   0.0   0.0   0.0   0.0   0.0  \n",
            "1034     0.00  0.00   0.0   0.0   0.0   0.0   0.0   0.0   0.0   0.0  \n",
            "1035     0.00  0.00   0.0   0.0   0.0   0.0   0.0   0.0   0.0   0.0  \n",
            "\n",
            "[1036 rows x 1682 columns]\n"
          ]
        }
      ],
      "source": [
        "# vectorize user-item matrix on users\n",
        "rating_pivot = pd.pivot_table(rating_df, values='rating', index=['user_id'],\n",
        "                    columns=['item_id'])\n",
        "rating_pivot = rating_pivot.fillna(0)\n",
        "\n",
        "print(rating_pivot)\n",
        "# convert pivot table to numpy array\n",
        "user_vectors = rating_pivot.values\n",
        "user_vectors = np.expand_dims(user_vectors, 2)"
      ]
    },
    {
      "cell_type": "code",
      "execution_count": null,
      "metadata": {
        "colab": {
          "base_uri": "https://localhost:8080/"
        },
        "id": "lKiHV45cg2Vb",
        "outputId": "93a2c533-a46f-4b53-c113-525fe97c90a1"
      },
      "outputs": [
        {
          "output_type": "stream",
          "name": "stdout",
          "text": [
            "<class 'pandas.core.frame.DataFrame'>\n",
            "Int64Index: 1036 entries, 0 to 1036\n",
            "Data columns (total 2 columns):\n",
            " #   Column           Non-Null Count  Dtype  \n",
            "---  ------           --------------  -----  \n",
            " 0   user_id          1036 non-null   int64  \n",
            " 1   shilling_attack  1036 non-null   float64\n",
            "dtypes: float64(1), int64(1)\n",
            "memory usage: 24.3 KB\n",
            "      user_id  shilling_attack\n",
            "0           0              0.0\n",
            "1           1              0.0\n",
            "2           2              0.0\n",
            "3           3              1.0\n",
            "4           4              1.0\n",
            "...       ...              ...\n",
            "1032     1031              1.0\n",
            "1033     1032              1.0\n",
            "1034     1033              1.0\n",
            "1035     1034              1.0\n",
            "1036     1035              1.0\n",
            "\n",
            "[1036 rows x 2 columns] (1036, 2) None\n"
          ]
        }
      ],
      "source": [
        "\n",
        "#import labels and pre-process\n",
        "load = f\"/content/dataset/{dataset_name}_labels.csv\"\n",
        "file_path = os.path.expanduser(load)\n",
        "\n",
        "#convert csv to dictionary\n",
        "label_dict = {'user_id':[], 'shilling_attack':[]}\n",
        "with open(file_path, 'r') as dataset:\n",
        "    for line in csv.reader(dataset):\n",
        "        label_dict['user_id'].append(line[0])\n",
        "        label_dict['shilling_attack'].append(line[1])\n",
        "\n",
        "#convert dictionary to dataframe\n",
        "label_df = pd.DataFrame.from_dict(label_dict)\n",
        "\n",
        "#encode user_id -> ascending sort -> drop duplicates -> convert column type\n",
        "label_df['user_id'] = user_encoder.transform(label_df['user_id'])\n",
        "label_df = label_df.sort_values(by='user_id', ascending=True, ignore_index=True)\n",
        "label_df = label_df.drop_duplicates(subset=['user_id'])\n",
        "label_df['shilling_attack'] = label_df['shilling_attack'].astype(float)\n",
        "print(label_df, label_df.shape, label_df.info())\n",
        "\n",
        "#convert to numpy array\n",
        "labels = label_df['shilling_attack'].values\n"
      ]
    },
    {
      "cell_type": "code",
      "execution_count": null,
      "metadata": {
        "id": "U2nVbgWMHJLW"
      },
      "outputs": [],
      "source": [
        "# randomize x and y values to prevent precision and recall issues\n",
        "perm = np.random.RandomState(seed=0).permutation(user_vectors.shape[0])\n",
        "user_vectors = user_vectors[perm]\n",
        "labels = labels[perm]\n",
        "\n",
        "#split data into training and testing sets\n",
        "x_train, x_test, y_train, y_test = train_test_split(user_vectors,labels,test_size = 0.2, random_state = 0)"
      ]
    },
    {
      "cell_type": "markdown",
      "metadata": {
        "id": "pnriEQcLmMtU"
      },
      "source": [
        "# Models"
      ]
    },
    {
      "cell_type": "code",
      "execution_count": null,
      "metadata": {
        "id": "MAtvsrPE2uJW"
      },
      "outputs": [],
      "source": [
        "# Each input sequence will be of size (1, x) (height is treated like time).\n",
        "# Units is number of LSTM cells or unrolled propagation\n",
        "units = 64\n",
        "output_size = 1  # labels are from 0 to 1\n",
        "\n",
        "def build_model_v1():\n",
        "  model = Sequential()\n",
        "  model.add(LSTM(64, activation=\"relu\", input_shape=(input_dim, 1), return_sequences=True))\n",
        "  model.add(Dropout(0.2))\n",
        "  model.add(LSTM(32))\n",
        "  model.add(Dropout(0.2))\n",
        "  model.add(Dense(output_size, activation='sigmoid'))\n",
        "\n",
        "  return model\n",
        "\n",
        "\n",
        "def build_model_v2():\n",
        "  model = Sequential()\n",
        "  model.add(LSTM(256, activation=\"relu\", dropout=0.25, recurrent_dropout=0.25, input_shape=(1682, 1)))\n",
        "  model.add(Dense(1, activation=\"sigmoid\"))\n",
        "\n",
        "  return model\n",
        "\n",
        "# apply batch normalization layer to prevent exploding/vanishing gradient problem\n",
        "def build_model_v3(): \n",
        "  model = Sequential()\n",
        "  model.add(LSTM(64, activation=\"relu\", input_shape=(input_dim, 1), return_sequences=True))\n",
        "  model.add(BatchNormalization())\n",
        "  model.add(Dropout(0.2))\n",
        "  model.add(LSTM(32))\n",
        "  model.add(BatchNormalization())\n",
        "  model.add(Dropout(0.2))\n",
        "  model.add(Dense(output_size, activation='sigmoid'))\n",
        "\n",
        "  return model\n",
        "\n",
        "# apply batch normalization layer to prevent exploding/vanishing gradient problem\n",
        "def build_model_v4(): \n",
        "  model = Sequential()\n",
        "  model.add(LSTM(64, activation=\"sigmoid\", input_shape=(input_dim, 1), return_sequences=True))\n",
        "  model.add(BatchNormalization())\n",
        "  model.add(Dropout(0.2))\n",
        "  model.add(LSTM(32, activation=\"sigmoid\"))\n",
        "  model.add(BatchNormalization())\n",
        "  model.add(Dropout(0.2))\n",
        "  model.add(Dense(output_size, activation='sigmoid'))\n",
        "\n",
        "  return model\n",
        "\n",
        "# apply batch normalization layer to prevent exploding/vanishing gradient problem\n",
        "def build_model_v5(): \n",
        "  model = Sequential()\n",
        "  model.add(LSTM(100, activation=\"sigmoid\", recurrent_dropout=0.25, input_shape=(input_dim, 1), return_sequences=True))\n",
        "  model.add(BatchNormalization())\n",
        "  model.add(Dropout(0.2))\n",
        "  model.add(LSTM(50, activation=\"sigmoid\"))\n",
        "  model.add(BatchNormalization())\n",
        "  model.add(Dropout(0.2))\n",
        "  model.add(Dense(output_size, activation='sigmoid'))\n",
        "\n",
        "  return model"
      ]
    },
    {
      "cell_type": "code",
      "execution_count": null,
      "metadata": {
        "colab": {
          "base_uri": "https://localhost:8080/"
        },
        "id": "U4qc7kYh4CDm",
        "outputId": "f9888e54-05f5-4cc7-d65f-b632d45470b6"
      },
      "outputs": [
        {
          "output_type": "stream",
          "name": "stderr",
          "text": [
            "WARNING:tensorflow:Layer lstm will not use cuDNN kernels since it doesn't meet the criteria. It will use a generic GPU kernel as fallback when running on GPU.\n"
          ]
        },
        {
          "output_type": "stream",
          "name": "stdout",
          "text": [
            "Epoch 1/20\n",
            "42/42 [==============================] - 138s 3s/step - loss: 0.6766 - root_mean_squared_error: 0.4870 - mean_absolute_error: 0.4674 - val_loss: 0.5947 - val_root_mean_squared_error: 0.4485 - val_mean_absolute_error: 0.4459\n",
            "Epoch 2/20\n",
            "42/42 [==============================] - 115s 3s/step - loss: 0.5476 - root_mean_squared_error: 0.4236 - mean_absolute_error: 0.4068 - val_loss: 0.5207 - val_root_mean_squared_error: 0.4071 - val_mean_absolute_error: 0.3968\n",
            "Epoch 3/20\n",
            "42/42 [==============================] - 114s 3s/step - loss: 0.4618 - root_mean_squared_error: 0.3741 - mean_absolute_error: 0.3493 - val_loss: 0.4645 - val_root_mean_squared_error: 0.3752 - val_mean_absolute_error: 0.3518\n",
            "Epoch 4/20\n",
            "42/42 [==============================] - 112s 3s/step - loss: 0.4005 - root_mean_squared_error: 0.3379 - mean_absolute_error: 0.3003 - val_loss: 0.4161 - val_root_mean_squared_error: 0.3489 - val_mean_absolute_error: 0.3021\n",
            "Epoch 5/20\n",
            "42/42 [==============================] - 113s 3s/step - loss: 0.3634 - root_mean_squared_error: 0.3155 - mean_absolute_error: 0.2606 - val_loss: 0.3928 - val_root_mean_squared_error: 0.3374 - val_mean_absolute_error: 0.2691\n",
            "Epoch 6/20\n",
            "42/42 [==============================] - 114s 3s/step - loss: 0.3096 - root_mean_squared_error: 0.2860 - mean_absolute_error: 0.2234 - val_loss: 0.3805 - val_root_mean_squared_error: 0.3321 - val_mean_absolute_error: 0.2423\n",
            "Epoch 7/20\n",
            "42/42 [==============================] - 121s 3s/step - loss: 0.3023 - root_mean_squared_error: 0.2835 - mean_absolute_error: 0.1999 - val_loss: 0.3767 - val_root_mean_squared_error: 0.3307 - val_mean_absolute_error: 0.2252\n",
            "Epoch 8/20\n",
            "42/42 [==============================] - 112s 3s/step - loss: 0.2842 - root_mean_squared_error: 0.2742 - mean_absolute_error: 0.1822 - val_loss: 0.3762 - val_root_mean_squared_error: 0.3305 - val_mean_absolute_error: 0.2133\n",
            "Epoch 9/20\n",
            "42/42 [==============================] - 111s 3s/step - loss: 0.2914 - root_mean_squared_error: 0.2771 - mean_absolute_error: 0.1730 - val_loss: 0.3806 - val_root_mean_squared_error: 0.3318 - val_mean_absolute_error: 0.1972\n",
            "Epoch 10/20\n",
            "42/42 [==============================] - 112s 3s/step - loss: 0.2834 - root_mean_squared_error: 0.2731 - mean_absolute_error: 0.1635 - val_loss: 0.3790 - val_root_mean_squared_error: 0.3314 - val_mean_absolute_error: 0.1994\n",
            "Epoch 11/20\n",
            "42/42 [==============================] - 110s 3s/step - loss: 0.2732 - root_mean_squared_error: 0.2679 - mean_absolute_error: 0.1550 - val_loss: 0.3790 - val_root_mean_squared_error: 0.3314 - val_mean_absolute_error: 0.1966\n",
            "Epoch 12/20\n",
            "42/42 [==============================] - 112s 3s/step - loss: 0.2743 - root_mean_squared_error: 0.2713 - mean_absolute_error: 0.1534 - val_loss: 0.3828 - val_root_mean_squared_error: 0.3324 - val_mean_absolute_error: 0.1888\n",
            "Epoch 13/20\n",
            "42/42 [==============================] - 113s 3s/step - loss: 0.2709 - root_mean_squared_error: 0.2666 - mean_absolute_error: 0.1472 - val_loss: 0.3733 - val_root_mean_squared_error: 0.3298 - val_mean_absolute_error: 0.2020\n",
            "Epoch 14/20\n",
            "42/42 [==============================] - 112s 3s/step - loss: 0.2701 - root_mean_squared_error: 0.2701 - mean_absolute_error: 0.1553 - val_loss: 0.3737 - val_root_mean_squared_error: 0.3303 - val_mean_absolute_error: 0.1885\n"
          ]
        },
        {
          "output_type": "execute_result",
          "data": {
            "text/plain": [
              "<keras.callbacks.History at 0x7fa7900729d0>"
            ]
          },
          "metadata": {},
          "execution_count": 8
        }
      ],
      "source": [
        "#build model\n",
        "tf.compat.v1.reset_default_graph()\n",
        "\n",
        "model = build_model_v3()\n",
        "callback = tf.keras.callbacks.EarlyStopping(monitor='loss', patience=3, min_delta = 0.01)\n",
        "\n",
        "#compile model\n",
        "#avoid exploding/vanishing gradient problem by setting clipoff\n",
        "optimizer = optimizers.Adam(clipvalue=0.5)\n",
        "model.compile(loss=tf.keras.losses.BinaryCrossentropy(from_logits=False),\n",
        "          optimizer=optimizer,\n",
        "          metrics=['RootMeanSquaredError', 'MeanAbsoluteError'])\n",
        "\n",
        "# fit model\n",
        "model.fit(\n",
        "      x_train, y_train, validation_data=(x_test, y_test), batch_size=batch_size, epochs=epochs, callbacks=[callback]\n",
        ")\n",
        "\n"
      ]
    },
    {
      "cell_type": "code",
      "execution_count": null,
      "metadata": {
        "colab": {
          "base_uri": "https://localhost:8080/"
        },
        "id": "Rr2VoymrvXXk",
        "outputId": "001801f9-5986-4754-9188-509cf2cb3417"
      },
      "outputs": [
        {
          "output_type": "stream",
          "name": "stdout",
          "text": [
            "Model: \"sequential\"\n",
            "_________________________________________________________________\n",
            " Layer (type)                Output Shape              Param #   \n",
            "=================================================================\n",
            " lstm (LSTM)                 (None, 1682, 64)          16896     \n",
            "                                                                 \n",
            " batch_normalization (BatchN  (None, 1682, 64)         256       \n",
            " ormalization)                                                   \n",
            "                                                                 \n",
            " dropout (Dropout)           (None, 1682, 64)          0         \n",
            "                                                                 \n",
            " lstm_1 (LSTM)               (None, 32)                12416     \n",
            "                                                                 \n",
            " batch_normalization_1 (Batc  (None, 32)               128       \n",
            " hNormalization)                                                 \n",
            "                                                                 \n",
            " dropout_1 (Dropout)         (None, 32)                0         \n",
            "                                                                 \n",
            " dense (Dense)               (None, 1)                 33        \n",
            "                                                                 \n",
            "=================================================================\n",
            "Total params: 29,729\n",
            "Trainable params: 29,537\n",
            "Non-trainable params: 192\n",
            "_________________________________________________________________\n"
          ]
        }
      ],
      "source": [
        "model.summary()"
      ]
    },
    {
      "cell_type": "markdown",
      "metadata": {
        "id": "iOvfNqowO59r"
      },
      "source": [
        "# RMSE and MAE Metrics"
      ]
    },
    {
      "cell_type": "code",
      "execution_count": null,
      "metadata": {
        "colab": {
          "base_uri": "https://localhost:8080/"
        },
        "id": "ucj3l5PGO_G7",
        "outputId": "3a67b7a8-294b-4ec9-a1fa-924ec4e65aa3"
      },
      "outputs": [
        {
          "output_type": "stream",
          "name": "stdout",
          "text": [
            "3/3 [==============================] - 1s 240ms/step - loss: 0.3737 - root_mean_squared_error: 0.3303 - mean_absolute_error: 0.1885\n",
            "RMSE: 0.3302977681159973 \n",
            " MAE: 0.1884613037109375\n"
          ]
        }
      ],
      "source": [
        "results = model.evaluate(x_test, y_test, batch_size=100)\n",
        "print('RMSE:',results[1],'\\n','MAE:',results[2])"
      ]
    },
    {
      "cell_type": "markdown",
      "metadata": {
        "id": "vm-YdkeUsLif"
      },
      "source": [
        "# Binary Classification of Output"
      ]
    },
    {
      "cell_type": "code",
      "execution_count": null,
      "metadata": {
        "id": "51u413c7sNeq",
        "colab": {
          "base_uri": "https://localhost:8080/"
        },
        "outputId": "9420582f-6183-4f44-f99e-1254c4e4ccff"
      },
      "outputs": [
        {
          "output_type": "stream",
          "name": "stdout",
          "text": [
            "7/7 [==============================] - 2s 235ms/step\n",
            "Best threshold: 0.08161973\n"
          ]
        }
      ],
      "source": [
        "def getBestThreshold(input, actual):\n",
        "  fpr, tpr, thresholds = roc_curve(actual, input)\n",
        "  roc_auc = auc(fpr, tpr)\n",
        "\n",
        "  # Find the best threshold that maximizes the AUC\n",
        "  best_threshold = thresholds[np.argmax(tpr - fpr)]\n",
        "\n",
        "  print('Best threshold:', best_threshold)\n",
        "  return best_threshold\n",
        "\n",
        "num_rows = y_test.shape[0]\n",
        "predictions = np.zeros(num_rows)\n",
        "predictions_temp = model.predict(x_test)\n",
        "threshold = getBestThreshold(predictions_temp, y_test)\n",
        "for i in range (int(num_rows)):\n",
        "  if predictions_temp[i][0] > threshold:\n",
        "    predictions[i] = 1"
      ]
    },
    {
      "cell_type": "markdown",
      "metadata": {
        "id": "lP_FiE8K1SSi"
      },
      "source": [
        "# Precision and Recall Metrics"
      ]
    },
    {
      "cell_type": "code",
      "execution_count": null,
      "metadata": {
        "colab": {
          "base_uri": "https://localhost:8080/"
        },
        "id": "jiLzVLQb1U7F",
        "outputId": "07d0bed3-e1ed-4f08-870e-1e185ec6135b"
      },
      "outputs": [
        {
          "output_type": "stream",
          "name": "stdout",
          "text": [
            "Precision score: 0.5550635348479014\n",
            "Recall score: 0.5906593406593407\n",
            "F1-score: 0.3331929331929332\n"
          ]
        }
      ],
      "source": [
        "from sklearn.metrics import f1_score, precision_score, recall_score, confusion_matrix\n",
        "#y_pred1 = model.predict(X_test)\n",
        "#y_pred = np.argmax(y_pred1, axis=1)\n",
        "\n",
        "# Print f1, precision, and recall scores\n",
        "print('Precision score:',precision_score(y_test, predictions , average=\"macro\"))\n",
        "print('Recall score:',recall_score(y_test, predictions , average=\"macro\"))\n",
        "print('F1-score:',f1_score(y_test, predictions , average=\"macro\"))\n"
      ]
    },
    {
      "cell_type": "markdown",
      "metadata": {
        "id": "mYmSJwzcc85E"
      },
      "source": [
        "# Save model"
      ]
    },
    {
      "cell_type": "code",
      "execution_count": null,
      "metadata": {
        "colab": {
          "base_uri": "https://localhost:8080/"
        },
        "id": "eQktdvtzc7q-",
        "outputId": "7635bef4-d8f7-4931-d4a0-9f5395fcda12"
      },
      "outputs": [
        {
          "output_type": "stream",
          "name": "stderr",
          "text": [
            "WARNING:absl:Found untraced functions such as lstm_cell_1_layer_call_fn, lstm_cell_1_layer_call_and_return_conditional_losses while saving (showing 2 of 2). These functions will not be directly callable after loading.\n"
          ]
        }
      ],
      "source": [
        "model.save(f'/content/models/{dataset_name}_model_{postfix}')"
      ]
    },
    {
      "cell_type": "markdown",
      "metadata": {
        "id": "6Xx-G-5Q2Yk-"
      },
      "source": [
        "# Testing Section"
      ]
    },
    {
      "cell_type": "code",
      "execution_count": null,
      "metadata": {
        "id": "MI7r57GEknC9",
        "colab": {
          "base_uri": "https://localhost:8080/"
        },
        "outputId": "7257470a-95b7-4c0f-b847-7ed45686a7ac"
      },
      "outputs": [
        {
          "output_type": "stream",
          "name": "stderr",
          "text": [
            "/usr/local/lib/python3.9/dist-packages/sklearn/cluster/_kmeans.py:870: FutureWarning: The default value of `n_init` will change from 10 to 'auto' in 1.4. Set the value of `n_init` explicitly to suppress the warning\n",
            "  warnings.warn(\n"
          ]
        },
        {
          "output_type": "stream",
          "name": "stdout",
          "text": [
            "[1 0 0 0 0 0 0 0 0 0 0 0 0 1 0 0 1 0 0 1 0 0 0 0 0 0 0 0 0 0 0 0 1 0 0 0 0\n",
            " 0 0 0 0 0 0 0 0 0 0 0 0 0 0 0 1 0 0 0 0 0 0 0 0 0 1 0 1 0 1 0 0 0 1 0 0 0\n",
            " 0 0 0 0 0 0 0 0 1 0 1 0 0 0 0 0 0 0 1 0 0 0 0 0 0 0 0 0 0 0 0 0 0 0 0 0 1\n",
            " 1 0 0 0 0 0 0 1 0 0 0 0 0 0 0 0 0 0 0 0 0 0 0 0 0 0 0 0 0 1 0 0 1 1 0 0 0\n",
            " 0 0 0 0 0 0 1 0 0 0 0 0 0 0 0 0 0 1 0 0 0 0 0 0 0 0 0 0 0 0 0 0 0 1 0 1 0\n",
            " 0 0 0 0 0 0 1 0 0 0 0 1 0 0 0 0 0 0 0 0 0 0 0]\n",
            "[[0.09394755]\n",
            " [0.0401917 ]]\n",
            "Precision score: 0.42896174863387976\n",
            "Recall score: 0.43131868131868134\n",
            "F1-score: 0.43013698630136993\n"
          ]
        }
      ],
      "source": [
        "from sklearn.cluster import KMeans\n",
        "\n",
        "kmeans = KMeans(n_clusters=2)\n",
        "kmeans.fit(predictions_temp)\n",
        "\n",
        "# Get cluster labels and centroids\n",
        "labels_cluster = kmeans.labels_\n",
        "reversed_labels = np.max(labels_cluster) - labels_cluster\n",
        "centroids = kmeans.cluster_centers_\n",
        "\n",
        "print(labels_cluster)\n",
        "print(centroids)\n",
        "# Print f1, precision, and recall scores\n",
        "print('Precision score:',precision_score(y_test, labels_cluster , average=\"macro\"))\n",
        "print('Recall score:',recall_score(y_test, labels_cluster , average=\"macro\"))\n",
        "print('F1-score:',f1_score(y_test, labels_cluster , average=\"macro\"))\n"
      ]
    },
    {
      "cell_type": "code",
      "execution_count": null,
      "metadata": {
        "id": "NJ_XUqpQktNQ"
      },
      "outputs": [],
      "source": [
        "#data_test = {'Pred': labels_cluster, 'Actual': y_test}\n",
        "#compare_result = pd.DataFrame(data_test)\n",
        "#print('Predicted', 'Actual')\n",
        "#print(compare_result.to_numpy())"
      ]
    },
    {
      "cell_type": "code",
      "execution_count": null,
      "metadata": {
        "id": "PXKysfsil7bb",
        "colab": {
          "base_uri": "https://localhost:8080/",
          "height": 449
        },
        "outputId": "452549da-b393-40a4-bf6b-5f4c7b0d562c"
      },
      "outputs": [
        {
          "output_type": "display_data",
          "data": {
            "text/plain": [
              "<Figure size 640x480 with 1 Axes>"
            ],
            "image/png": "[encoded data removed]"
          },
          "metadata": {}
        }
      ],
      "source": [
        "import matplotlib.pyplot as plt\n",
        "\n",
        "plt.scatter(range(len(predictions_temp)), predictions_temp)\n",
        "plt.ylabel('Prediction value')\n",
        "plt.xlabel('Users')\n",
        "plt.show()"
      ]
    },
    {
      "cell_type": "markdown",
      "metadata": {
        "id": "6uJo3GzMBeS0"
      },
      "source": [
        "# Zip and Download Model"
      ]
    },
    {
      "cell_type": "code",
      "execution_count": null,
      "metadata": {
        "id": "acm7_WftBimP",
        "colab": {
          "base_uri": "https://localhost:8080/",
          "height": 329
        },
        "outputId": "aaf20909-6ab6-407d-f393-6488bc0fa465"
      },
      "outputs": [
        {
          "output_type": "stream",
          "name": "stdout",
          "text": [
            "  adding: content/models/ (stored 0%)\n",
            "  adding: content/models/ml_100k_random_model_v3/ (stored 0%)\n",
            "  adding: content/models/ml_100k_random_model_v3/keras_metadata.pb (deflated 91%)\n",
            "  adding: content/models/ml_100k_random_model_v3/fingerprint.pb (stored 0%)\n",
            "  adding: content/models/ml_100k_random_model_v3/assets/ (stored 0%)\n",
            "  adding: content/models/ml_100k_random_model_v3/saved_model.pb (deflated 89%)\n",
            "  adding: content/models/ml_100k_random_model_v3/variables/ (stored 0%)\n",
            "  adding: content/models/ml_100k_random_model_v3/variables/variables.data-00000-of-00001 (deflated 11%)\n",
            "  adding: content/models/ml_100k_random_model_v3/variables/variables.index (deflated 68%)\n",
            "  adding: content/models/ml_100k_random_model_v5/ (stored 0%)\n",
            "  adding: content/models/ml_100k_random_model_v5/keras_metadata.pb (deflated 91%)\n",
            "  adding: content/models/ml_100k_random_model_v5/fingerprint.pb (stored 0%)\n",
            "  adding: content/models/ml_100k_random_model_v5/assets/ (stored 0%)\n",
            "  adding: content/models/ml_100k_random_model_v5/saved_model.pb (deflated 90%)\n",
            "  adding: content/models/ml_100k_random_model_v5/variables/ (stored 0%)\n",
            "  adding: content/models/ml_100k_random_model_v5/variables/variables.data-00000-of-00001 (deflated 8%)\n",
            "  adding: content/models/ml_100k_random_model_v5/variables/variables.index (deflated 67%)\n"
          ]
        },
        {
          "output_type": "display_data",
          "data": {
            "text/plain": [
              "<IPython.core.display.Javascript object>"
            ],
            "application/javascript": [
              "\n",
              "    async function download(id, filename, size) {\n",
              "      if (!google.colab.kernel.accessAllowed) {\n",
              "        return;\n",
              "      }\n",
              "      const div = document.createElement('div');\n",
              "      const label = document.createElement('label');\n",
              "      label.textContent = `Downloading \"${filename}\": `;\n",
              "      div.appendChild(label);\n",
              "      const progress = document.createElement('progress');\n",
              "      progress.max = size;\n",
              "      div.appendChild(progress);\n",
              "      document.body.appendChild(div);\n",
              "\n",
              "      const buffers = [];\n",
              "      let downloaded = 0;\n",
              "\n",
              "      const channel = await google.colab.kernel.comms.open(id);\n",
              "      // Send a message to notify the kernel that we're ready.\n",
              "      channel.send({})\n",
              "\n",
              "      for await (const message of channel.messages) {\n",
              "        // Send a message to notify the kernel that we're ready.\n",
              "        channel.send({})\n",
              "        if (message.buffers) {\n",
              "          for (const buffer of message.buffers) {\n",
              "            buffers.push(buffer);\n",
              "            downloaded += buffer.byteLength;\n",
              "            progress.value = downloaded;\n",
              "          }\n",
              "        }\n",
              "      }\n",
              "      const blob = new Blob(buffers, {type: 'application/binary'});\n",
              "      const a = document.createElement('a');\n",
              "      a.href = window.URL.createObjectURL(blob);\n",
              "      a.download = filename;\n",
              "      div.appendChild(a);\n",
              "      a.click();\n",
              "      div.remove();\n",
              "    }\n",
              "  "
            ]
          },
          "metadata": {}
        },
        {
          "output_type": "display_data",
          "data": {
            "text/plain": [
              "<IPython.core.display.Javascript object>"
            ],
            "application/javascript": [
              "download(\"download_322720e3-5ce1-446f-a1a7-cc4eab723475\", \"ml_100k_models_v3_random20ep.zip\", 1355569)"
            ]
          },
          "metadata": {}
        }
      ],
      "source": [
        "!zip -r /content/ml_100k_models_v3_random20ep.zip /content/models/\n",
        "from google.colab import files\n",
        "#files.download(f'/content/{dataset_name}.zip')\n",
        "files.download(f'/content/ml_100k_models_v3_random20ep.zip')"
      ]
    }
  ],
  "metadata": {
    "accelerator": "GPU",
    "colab": {
      "provenance": [],
      "include_colab_link": true
    },
    "gpuClass": "standard",
    "kernelspec": {
      "display_name": "Python 3",
      "name": "python3"
    },
    "language_info": {
      "name": "python"
    }
  },
  "nbformat": 4,
  "nbformat_minor": 0
}